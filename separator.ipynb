{
 "cells": [
  {
   "cell_type": "code",
   "execution_count": 847,
   "metadata": {},
   "outputs": [],
   "source": [
    "import numpy as np"
   ]
  },
  {
   "cell_type": "code",
   "execution_count": 848,
   "metadata": {},
   "outputs": [],
   "source": [
    "# all flow rates are in cubicfeet/min\n",
    "Qgas=1871.6773   #Qv\n",
    "Qwater=89.62   #Qhl\n",
    "Qoil=77.9865    #Qll\n",
    "# Qgas=560   #Qv\n",
    "# Qwater=30.55   #Qhl\n",
    "# Qoil=26.55"
   ]
  },
  {
   "cell_type": "code",
   "execution_count": 849,
   "metadata": {},
   "outputs": [
    {
     "name": "stdout",
     "output_type": "stream",
     "text": [
      "11.717396402284827\n"
     ]
    }
   ],
   "source": [
    "print((Qgas*0.69)/(Qgas*0.69+Qwater*62.4+Qoil*53.06)*100)\n"
   ]
  },
  {
   "cell_type": "code",
   "execution_count": 850,
   "metadata": {},
   "outputs": [
    {
     "data": {
      "text/plain": [
       "2.776621978992874"
      ]
     },
     "execution_count": 850,
     "metadata": {},
     "output_type": "execute_result"
    }
   ],
   "source": [
    "K=0.3319\n",
    "# densities are in lb/ft^3\n",
    "Ro_w=62.4\n",
    "Ro_l=50.063\n",
    "Ro_v=0.6973\n",
    "U_t=0.33*((Ro_l-Ro_v)/(Ro_v))**0.5 # ft/s\n",
    "U_t"
   ]
  },
  {
   "cell_type": "code",
   "execution_count": 851,
   "metadata": {},
   "outputs": [
    {
     "data": {
      "text/plain": [
       "2.082466484244655"
      ]
     },
     "execution_count": 851,
     "metadata": {},
     "output_type": "execute_result"
    }
   ],
   "source": [
    "U_v=0.75*U_t\n",
    "U_v"
   ]
  },
  {
   "cell_type": "code",
   "execution_count": 852,
   "metadata": {},
   "outputs": [
    {
     "name": "stdout",
     "output_type": "stream",
     "text": [
      "174.50249999999997\n"
     ]
    }
   ],
   "source": [
    "# Centipoise (cP) = Centistokes (cSt) x S.G\n",
    "# operating pressure 72.51 psig and temperature is 38 degree celcius\n",
    "mu_l=2.6589 #cp centipoise viscosity of liquid\n",
    "mu_w=0.653 #cp centipoise viscosity of water\n",
    "T_h=10 #liquid hodup time in min\n",
    "T_s=5#liquid surge time in min\n",
    "V_h=T_h*(-Qoil+Qwater)\n",
    "V_s=T_s*(-Qoil+Qwater)\n",
    "print(V_s+V_h) # in ft^3\n"
   ]
  },
  {
   "cell_type": "code",
   "execution_count": 853,
   "metadata": {},
   "outputs": [
    {
     "data": {
      "text/plain": [
       "7.903747856723311"
      ]
     },
     "execution_count": 853,
     "metadata": {},
     "output_type": "execute_result"
    }
   ],
   "source": [
    "L_D=3\n",
    "D = (16 * (V_h + V_s) / (0.6 * np.pi * L_D)) ** 0.33333333\n",
    "D"
   ]
  },
  {
   "cell_type": "code",
   "execution_count": 854,
   "metadata": {},
   "outputs": [
    {
     "data": {
      "text/plain": [
       "49.0632186543123"
      ]
     },
     "execution_count": 854,
     "metadata": {},
     "output_type": "execute_result"
    }
   ],
   "source": [
    "A_t=(np.pi)*0.25*(D**2)\n",
    "A_t"
   ]
  },
  {
   "cell_type": "code",
   "execution_count": 855,
   "metadata": {},
   "outputs": [
    {
     "name": "stdout",
     "output_type": "stream",
     "text": [
      "1.5807495713446622\n",
      "0.14242980950169093\n"
     ]
    }
   ],
   "source": [
    "H_v=0.2*D #vapour space height\n",
    "# H_v=D-6.5\n",
    "print(H_v)\n",
    "# using H_v/D calculate Av/At from table 3\n",
    "x=H_v/D # x =H_v/D\n",
    "Av_At=((-4.76*(10**-5)+0.175*x+5.669*x**2-4.916*x**3-0.145*x**4)/(1+3.9241*x-6.3588*x**2+4.0184*x**3-1.8017*x**4))\n",
    "print(Av_At)"
   ]
  },
  {
   "cell_type": "code",
   "execution_count": 856,
   "metadata": {},
   "outputs": [
    {
     "name": "stdout",
     "output_type": "stream",
     "text": [
      "6.98806488647351\n",
      "0.11597873354308812\n",
      "0.06456266822892885\n"
     ]
    },
    {
     "data": {
      "text/plain": [
       "3.1676523082217583"
      ]
     },
     "execution_count": 856,
     "metadata": {},
     "output_type": "execute_result"
    }
   ],
   "source": [
    "A_v=Av_At*A_t\n",
    "print(A_v)  #vapour space area\n",
    "# H_lll=12  # liquid level in light liquid compartment in inch\n",
    "H_lll=11/12 #in feet\n",
    "# using H_lll/D calculate calculate A_lll \n",
    "H_lll_D =H_lll/D # it is H_lll/D\n",
    "x=H_lll_D # x =H_v/D\n",
    "print(x)\n",
    "A_lll_At=((-4.76*(10**-5)+0.175*x+5.669*x**2-4.916*x**3-0.145*x**4)/(1+3.9241*x-6.3588*x**2+4.0184*x**3-1.8017*x**4))\n",
    "print(A_lll_At)\n",
    "A_lll=A_t*A_lll_At\n",
    "A_lll\n",
    "\n"
   ]
  },
  {
   "cell_type": "code",
   "execution_count": 857,
   "metadata": {},
   "outputs": [
    {
     "name": "stdout",
     "output_type": "stream",
     "text": [
      "6.322998285378649\n",
      "6.322998285378649\n",
      "3.1614991426893244\n"
     ]
    }
   ],
   "source": [
    "H_w=D-H_v #weir height\n",
    "print(H_w)\n",
    "if(H_w>6.5):\n",
    "    H_w=6.5\n",
    "    H_v=D-H_w\n",
    "print(H_w)\n",
    "H_hl=H_w/2\n",
    "H_ll=H_w/2\n",
    "print(H_w/2)\n"
   ]
  },
  {
   "cell_type": "code",
   "execution_count": 858,
   "metadata": {},
   "outputs": [
    {
     "name": "stdout",
     "output_type": "stream",
     "text": [
      "0.14242980950169093\n",
      "6.98806488647351\n"
     ]
    }
   ],
   "source": [
    "\n",
    "x=H_v/D # x =H_v/D\n",
    "Av_At=((-4.76*(10**-5)+0.175*x+5.669*x**2-4.916*x**3-0.145*x**4)/(1+3.9241*x-6.3588*x**2+4.0184*x**3-1.8017*x**4))\n",
    "print(Av_At)\n",
    "A_v=Av_At*A_t\n",
    "print(A_v)  #vapour space area"
   ]
  },
  {
   "cell_type": "code",
   "execution_count": 859,
   "metadata": {},
   "outputs": [
    {
     "name": "stdout",
     "output_type": "stream",
     "text": [
      "0.4\n",
      "0.37353915934049675\n",
      "23.748120317167995 18.327033450670797\n"
     ]
    }
   ],
   "source": [
    "H_hl_D=H_hl/D\n",
    "x=H_hl_D \n",
    "print(x)\n",
    "A_hl_At=((-4.76*(10**-5)+0.175*x+5.669*x**2-4.916*x**3-0.145*x**4)/(1+3.9241*x-6.3588*x**2+4.0184*x**3-1.8017*x**4))\n",
    "print(A_hl_At)\n",
    "A_hl=A_t*A_hl_At\n",
    "A_ll=A_t-A_v-A_hl\n",
    "print(A_ll,A_hl)"
   ]
  },
  {
   "cell_type": "code",
   "execution_count": 860,
   "metadata": {},
   "outputs": [
    {
     "name": "stdout",
     "output_type": "stream",
     "text": [
      "4.485060552683396 L2\n"
     ]
    }
   ],
   "source": [
    "L2=(V_h+V_s)/(A_t-A_v-A_lll) #the minimum length of light liquid compartment to accomodate holdup/surge in ft\n",
    "# round up to 1/2 ft\n",
    "# L2=8.5\n",
    "print(L2,\"L2\")"
   ]
  },
  {
   "cell_type": "code",
   "execution_count": 861,
   "metadata": {},
   "outputs": [
    {
     "name": "stdout",
     "output_type": "stream",
     "text": [
      "0.7563018541502122 3.0795267993874416\n"
     ]
    }
   ],
   "source": [
    "ks=0.163\n",
    "U_hl=ks*(Ro_w-Ro_l)/mu_l\n",
    "U_lh=ks*(Ro_w-Ro_l)/mu_w   # velocities are in inch\n",
    "print(U_hl,U_lh)\n"
   ]
  },
  {
   "cell_type": "code",
   "execution_count": 862,
   "metadata": {},
   "outputs": [
    {
     "name": "stdout",
     "output_type": "stream",
     "text": [
      "10.032499458803887 2.4638843681969753\n"
     ]
    }
   ],
   "source": [
    "t_hl=0.2*12*H_ll/U_hl\n",
    "t_lh=0.2*12*H_hl/U_lh  # time is in minute\n",
    "print(t_hl,t_lh)\n",
    "\n"
   ]
  },
  {
   "cell_type": "code",
   "execution_count": 863,
   "metadata": {},
   "outputs": [
    {
     "name": "stdout",
     "output_type": "stream",
     "text": [
      "32.94574511981047\n",
      "4.485060552683396\n",
      "37.43080567249386\n"
     ]
    }
   ],
   "source": [
    "L1=max(t_lh*Qwater/A_hl,t_hl*Qoil/A_ll)\n",
    "print(L1)\n",
    "print(L2)\n",
    "L=L1+L2\n",
    "print(L)\n",
    "# print((H_v*Qgas/60)/(U_v*A_v))\n"
   ]
  },
  {
   "cell_type": "code",
   "execution_count": 864,
   "metadata": {},
   "outputs": [
    {
     "name": "stdout",
     "output_type": "stream",
     "text": [
      "minimum thickness without corrosion allowance: 12.217952318311482 mm\n",
      "minimum thickness with corrosion allowance: 14.217952318311482 mm\n"
     ]
    }
   ],
   "source": [
    "# cost estimation\n",
    "f=1.2*10**8\n",
    "di=2.41 #metre\n",
    "j=0.85\n",
    "p=10.29*10**5\n",
    "t=(p*di*1000)/(2*f*j-p)\n",
    "\n",
    "print(\"minimum thickness without corrosion allowance:\",t,\"mm\")\n",
    "print(\"minimum thickness with corrosion allowance:\",t+2,\"mm\")\n",
    "\n"
   ]
  }
 ],
 "metadata": {
  "kernelspec": {
   "display_name": "Python 3.9.6 64-bit",
   "language": "python",
   "name": "python3"
  },
  "language_info": {
   "codemirror_mode": {
    "name": "ipython",
    "version": 3
   },
   "file_extension": ".py",
   "mimetype": "text/x-python",
   "name": "python",
   "nbconvert_exporter": "python",
   "pygments_lexer": "ipython3",
   "version": "3.9.6"
  },
  "orig_nbformat": 4,
  "vscode": {
   "interpreter": {
    "hash": "31f2aee4e71d21fbe5cf8b01ff0e069b9275f58929596ceb00d14d90e3e16cd6"
   }
  }
 },
 "nbformat": 4,
 "nbformat_minor": 2
}
